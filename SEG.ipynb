{
 "cells": [
  {
   "cell_type": "code",
   "execution_count": 110,
   "metadata": {
    "collapsed": true
   },
   "outputs": [],
   "source": [
    "import numpy as np\n",
    "import matplotlib.pyplot as plt\n",
    "%matplotlib inline\n",
    "plt.rcParams['figure.figsize'] = 10,10\n",
    "from segtools.segtools.scores_dense import seg\n",
    "import tifffile"
   ]
  },
  {
   "cell_type": "code",
   "execution_count": 82,
   "metadata": {
    "collapsed": true
   },
   "outputs": [],
   "source": [
    "def ellipsoid(sx=128, sy=128, loc=(64,64),a=10,coeff=2, ax1=np.array([3,2])):\n",
    "    q = np.zeros((sx,sy))\n",
    "    ax1n = ax1/np.sqrt(np.dot(ax1,ax1))\n",
    "\n",
    "    ax2n = np.array([ax1n[1],-ax1n[0]])\n",
    "    b=coeff*a\n",
    "\n",
    "    for i in range(sx):\n",
    "        for j in range(sy):\n",
    "            vec = np.array(loc) - np.array([i,j])\n",
    "            pr1 = np.dot(vec,ax1n)\n",
    "            pr2 = np.dot(vec,ax2n)\n",
    "\n",
    "            if (((pr1/a)**2 + (pr2/b)**2) <= 1):\n",
    "                q[i,j] = 1\n",
    "                \n",
    "    return q.astype(np.int32)"
   ]
  },
  {
   "cell_type": "code",
   "execution_count": 90,
   "metadata": {},
   "outputs": [],
   "source": [
    "def ellipsoid_color(sx=128, sy=128, loc=(64,64), a=10,coeff=2, ax1=np.array([3,2]), color=[255,0,0,255]):\n",
    "    q = np.zeros((sx,sy,4))\n",
    "    ax1n = ax1/np.sqrt(np.dot(ax1,ax1))\n",
    "\n",
    "    ax2n = np.array([ax1n[1], -ax1n[0]])\n",
    "    b=coeff*a\n",
    "\n",
    "    for i in range(sx):\n",
    "        for j in range(sy):\n",
    "            vec = np.array(loc) - np.array([i,j])\n",
    "            pr1 = np.dot(vec,ax1n)\n",
    "            pr2 = np.dot(vec,ax2n)\n",
    "\n",
    "            if (((pr1/a)**2 + (pr2/b)**2) <= 1):\n",
    "                q[i,j,:] = np.array(color)\n",
    "                \n",
    "    return q.astype(np.uint8)"
   ]
  },
  {
   "cell_type": "code",
   "execution_count": 101,
   "metadata": {},
   "outputs": [],
   "source": [
    "ell1 = ellipsoid()\n",
    "ell2 = ellipsoid(loc=(64,70))\n",
    "\n",
    "ell1_c = ellipsoid_color(color=[255,0,0,200])\n",
    "ell2_c = ellipsoid_color(color=[0,255,0,200], loc=[64,65])"
   ]
  },
  {
   "cell_type": "code",
   "execution_count": 102,
   "metadata": {},
   "outputs": [
    {
     "data": {
      "text/plain": [
       "<matplotlib.image.AxesImage at 0x11ad44080>"
      ]
     },
     "execution_count": 102,
     "metadata": {},
     "output_type": "execute_result"
    },
    {
     "data": {
      "image/png": "[encoded data removed]",
      "text/plain": [
       "<matplotlib.figure.Figure at 0x11abaa828>"
      ]
     },
     "metadata": {},
     "output_type": "display_data"
    }
   ],
   "source": [
    "img = (0.5*ell1_c + 0.5*ell2_c).astype(np.uint8)\n",
    "plt.imshow(img)"
   ]
  },
  {
   "cell_type": "code",
   "execution_count": 104,
   "metadata": {},
   "outputs": [
    {
     "data": {
      "text/plain": [
       "<matplotlib.image.AxesImage at 0x11c0e0588>"
      ]
     },
     "execution_count": 104,
     "metadata": {},
     "output_type": "execute_result"
    },
    {
     "data": {
      "image/png": "[encoded data removed]",
      "text/plain": [
       "<matplotlib.figure.Figure at 0x112ea87f0>"
      ]
     },
     "metadata": {},
     "output_type": "display_data"
    }
   ],
   "source": [
    "plt.imshow(ell1_c[:,:,1])"
   ]
  },
  {
   "cell_type": "code",
   "execution_count": 108,
   "metadata": {},
   "outputs": [
    {
     "name": "stderr",
     "output_type": "stream",
     "text": [
      "/Users/dibrov/Documents/PhD/software/segtools/segtools/scores_dense.py:29: RuntimeWarning: invalid value encountered in true_divide\n",
      "  return psg / (rsum + csum - psg)\n",
      "/Users/dibrov/Documents/PhD/software/segtools/segtools/scores_dense.py:41: RuntimeWarning: invalid value encountered in true_divide\n",
      "  m0 = np.where(tmp==0,0,psg / tmp)\n",
      "/Users/dibrov/Documents/PhD/software/segtools/segtools/scores_dense.py:43: RuntimeWarning: invalid value encountered in true_divide\n",
      "  m1 = np.where(tmp==0,0,psg / tmp)\n"
     ]
    }
   ],
   "source": [
    "score = seg(ell1_c[:,:,0],ell2_c[:,:,1])"
   ]
  },
  {
   "cell_type": "code",
   "execution_count": 109,
   "metadata": {},
   "outputs": [
    {
     "data": {
      "text/plain": [
       "0.916923076923077"
      ]
     },
     "execution_count": 109,
     "metadata": {},
     "output_type": "execute_result"
    }
   ],
   "source": [
    "score"
   ]
  },
  {
   "cell_type": "code",
   "execution_count": 127,
   "metadata": {},
   "outputs": [
    {
     "data": {
      "text/plain": [
       "<matplotlib.figure.Figure at 0x11c9b2ac8>"
      ]
     },
     "metadata": {},
     "output_type": "display_data"
    }
   ],
   "source": [
    "rang = 50\n",
    "score = np.zeros(rang)\n",
    "for dist in range(rang):\n",
    "    ell1_c = ellipsoid_color(color=[255,0,0,200])\n",
    "    ell2_c = ellipsoid_color(color=[0,255,0,200], loc=[64,64+dist])\n",
    "    img = (0.5*ell1_c + 0.5*ell2_c).astype(np.uint8)\n",
    "#     tifffile.imsave(\"../../data/seg/img_\" + str(dist).zfill(2)+\".tif\",img)\n",
    "    score[dist] = seg((ell1_c[:,:,0]/255).astype(np.int32), (ell2_c[:,:,1]/255).astype(np.int32))\n",
    "    plt.imshow(img)\n",
    "    plt.text(64,10,str(score[dist]), fontsize=20)\n",
    "    plt.axis('off')\n",
    "    plt.savefig(\"../../data/seg/img_\" + str(dist).zfill(2)+\".tif\")\n",
    "    plt.clf()"
   ]
  },
  {
   "cell_type": "code",
   "execution_count": 113,
   "metadata": {},
   "outputs": [
    {
     "data": {
      "text/plain": [
       "array([1.        , 0.91692308, 0.84047267, 0.76988636, 0.70451436,\n",
       "       0.64379947, 0.58726115, 0.53448276, 0.48510131, 0.43879908,\n",
       "       0.39529675, 0.35729847, 0.        , 0.        , 0.        ,\n",
       "       0.        , 0.        , 0.        , 0.        , 0.        ,\n",
       "       0.        , 0.        , 0.        , 0.        , 0.        ,\n",
       "       0.        , 0.        , 0.        , 0.        , 0.        ,\n",
       "       0.        , 0.        , 0.        , 0.        , 0.        ,\n",
       "       0.        , 0.        , 0.        , 0.        , 0.        ,\n",
       "       0.        , 0.        , 0.        , 0.        , 0.        ,\n",
       "       0.        , 0.        , 0.        , 0.        , 0.        ])"
      ]
     },
     "execution_count": 113,
     "metadata": {},
     "output_type": "execute_result"
    }
   ],
   "source": [
    "score"
   ]
  },
  {
   "cell_type": "code",
   "execution_count": 124,
   "metadata": {},
   "outputs": [
    {
     "data": {
      "image/png": "[encoded data removed]",
      "text/plain": [
       "<matplotlib.figure.Figure at 0x11c52d3c8>"
      ]
     },
     "metadata": {},
     "output_type": "display_data"
    }
   ],
   "source": [
    "plt.imshow(ell1_c)\n",
    "plt.text(64,10,\"sth\", fontsize=20)\n",
    "plt.axis('off')\n",
    "plt.savefig(\"../../data/bla.png\")"
   ]
  },
  {
   "cell_type": "code",
   "execution_count": null,
   "metadata": {
    "collapsed": true
   },
   "outputs": [],
   "source": []
  }
 ],
 "metadata": {
  "kernelspec": {
   "display_name": "Python 3",
   "language": "python",
   "name": "python3"
  },
  "language_info": {
   "codemirror_mode": {
    "name": "ipython",
    "version": 3
   },
   "file_extension": ".py",
   "mimetype": "text/x-python",
   "name": "python",
   "nbconvert_exporter": "python",
   "pygments_lexer": "ipython3",
   "version": "3.5.3"
  }
 },
 "nbformat": 4,
 "nbformat_minor": 2
}
